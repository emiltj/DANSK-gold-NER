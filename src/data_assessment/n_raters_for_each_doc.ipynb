{
 "cells": [
  {
   "cell_type": "code",
   "execution_count": 21,
   "metadata": {},
   "outputs": [],
   "source": [
    "import os\n",
    "import dacy\n",
    "import re\n",
    "import glob\n",
    "from spacy.tokens import DocBin, Doc, Span\n",
    "import copy"
   ]
  },
  {
   "cell_type": "code",
   "execution_count": 22,
   "metadata": {},
   "outputs": [],
   "source": [
    "# Change cwd\n",
    "os.chdir(\"/Users/emiltrencknerjessen/Desktop/priv/DANSK-gold-NER\")\n",
    "\n",
    "# Load language object\n",
    "nlp = spacy.blank(\"da\")\n",
    "\n",
    "# List relevant data and sort by rater number\n",
    "data_paths = glob.glob(\"./data/multi/unprocessed/rater*/data.spacy\")\n",
    "data_paths.sort()\n",
    "data_paths.sort(key=\"./data/multi/unprocessed/rater_10/data.spacy\".__eq__)\n",
    "\n",
    "# Load in data and get rater indices (if not already loaded)\n",
    "data = []\n",
    "raters_idx = []\n",
    "for path in data_paths:\n",
    "    # Get rater indices\n",
    "    rater_idx = re.search(r\"\\d+\", path).group()\n",
    "    raters_idx.append(int(rater_idx) - 1)\n",
    "\n",
    "    # Load dataa\n",
    "    doc_bin = DocBin().from_disk(path)\n",
    "    docs = list(doc_bin.get_docs(nlp.vocab))[:20]\n",
    "    data.append(docs)"
   ]
  },
  {
   "cell_type": "code",
   "execution_count": 23,
   "metadata": {},
   "outputs": [],
   "source": [
    "# Get a list with all docs from all raters (including duplicate docs)\n",
    "all_docs = [item for sublist in data for item in sublist]\n",
    "\n",
    "# Get a list of all unique docs\n",
    "unique_docs = []\n",
    "for doc in all_docs:\n",
    "    if all(doc.text != unique_doc.text for unique_doc in unique_docs):\n",
    "        unique_docs.append(doc)#copy.deepcopy(doc))\n",
    "\n",
    "# Ensure that unique_docs don't already have entities\n",
    "# for i in unique_docs:\n",
    "#     i.ents = ()"
   ]
  },
  {
   "cell_type": "code",
   "execution_count": 24,
   "metadata": {},
   "outputs": [
    {
     "data": {
      "text/plain": [
       "[{'doc': 'Hvordan kan statsministeren kalde børn,der er født på danske hospitaler for indvandrerdrenge!',\n",
       "  'n_raters_for_doc': 10},\n",
       " {'doc': 'Det her er jo håbløst #dkpol  https://t.co/e7hAg155Gw',\n",
       "  'n_raters_for_doc': 10},\n",
       " {'doc': '\\n@cekicozlem', 'n_raters_for_doc': 7},\n",
       " {'doc': 'Da jeg voksede op ude i vollsmose, kaldte man dem 2. Generationsindvandrere.',\n",
       "  'n_raters_for_doc': 10},\n",
       " {'doc': 'Vi må så være på 3. Generation nu?', 'n_raters_for_doc': 10},\n",
       " {'doc': 'Åndssvagt ord, som ingen problemer løser.', 'n_raters_for_doc': 10},\n",
       " {'doc': 'For der ér problemer blandt disse sociale lag, og dem kommer vi først rigtig til livs når vi kigger lidt bag tæppet',\n",
       "  'n_raters_for_doc': 10},\n",
       " {'doc': 'Man kunne spørge sig selv, hvad dee mon ligger til grund for at så mange går ud af den kriminelle sti - som om de intet har at miste - kunne det tænkes at dk lod dem og deres forældre i stikken da de startede deres nye liv her?',\n",
       "  'n_raters_for_doc': 10},\n",
       " {'doc': 'Man kunne også spørge om det mon er os eller dem som har skabt disse parallelsamfund.',\n",
       "  'n_raters_for_doc': 10},\n",
       " {'doc': 'Hvem har besluttet at internere alle udefrakommende i disse nedslidte boligområder, vi i dag kalder for ghettoer?',\n",
       "  'n_raters_for_doc': 10},\n",
       " {'doc': 'Gav man dem mulighed for at bo andre steder?',\n",
       "  'n_raters_for_doc': 10},\n",
       " {'doc': 'Nå nej', 'n_raters_for_doc': 10},\n",
       " {'doc': 'Det er selvfølgelig anekdotisk, men jeg har mødt så mange gode mennesker i min barndom som både hed Abdi, Tarik, Muhammad og Eyman.',\n",
       "  'n_raters_for_doc': 10},\n",
       " {'doc': 'Varme hjerter, svære kår, gode til fodbold.',\n",
       "  'n_raters_for_doc': 10},\n",
       " {'doc': 'Flere af dem sælger hash osv i dag.', 'n_raters_for_doc': 10},\n",
       " {'doc': 'Så sørgeligt og jeg nægter tesen om at det skulle være selvforskyldt',\n",
       "  'n_raters_for_doc': 10},\n",
       " {'doc': 'Deres forældre havde ingen muligheder, allerede dengang blev de set ned på i samfundet, på kommunen og i parlamentet.',\n",
       "  'n_raters_for_doc': 10},\n",
       " {'doc': 'Svært at gro blomster direkte på beton', 'n_raters_for_doc': 10},\n",
       " {'doc': '\\n@iNSiG9FiX @cekicozlem', 'n_raters_for_doc': 9},\n",
       " {'doc': 'Deres forældre, bedsteforældre er det vel snarere nu, de havde alle de muligheder de valgte at forfølge.',\n",
       "  'n_raters_for_doc': 10},\n",
       " {'doc': 'Det er på tide man lægger offerrollen på hylden.',\n",
       "  'n_raters_for_doc': 3},\n",
       " {'doc': 'Vi går i samme skole, har samme mulighed for uddannelse.',\n",
       "  'n_raters_for_doc': 1}]"
      ]
     },
     "execution_count": 24,
     "metadata": {},
     "output_type": "execute_result"
    }
   ],
   "source": [
    "# Define a function for finding the index of a list in which a doc exists\n",
    "def get_same_doc_index(doc, list_of_docs):\n",
    "    for i, e in enumerate(list_of_docs):\n",
    "        if e.text == doc.text:\n",
    "            return i\n",
    "        \n",
    "    \n",
    "docs_number_of_raters = []\n",
    "for doc in unique_docs:\n",
    "    doc_number_of_raters = {'doc':f'{doc}', 'n_raters_for_doc':0}\n",
    "    for rater in raters_idx:\n",
    "        rater_docs = data[rater]\n",
    "        if get_same_doc_index(doc, rater_docs) is not None: \n",
    "            doc_number_of_raters['n_raters_for_doc'] += 1\n",
    "    docs_number_of_raters.append(doc_number_of_raters)\n",
    "    \n",
    "docs_number_of_raters"
   ]
  },
  {
   "cell_type": "code",
   "execution_count": 25,
   "metadata": {},
   "outputs": [
    {
     "data": {
      "text/plain": [
       "[10,\n",
       " 10,\n",
       " 7,\n",
       " 10,\n",
       " 10,\n",
       " 10,\n",
       " 10,\n",
       " 10,\n",
       " 10,\n",
       " 10,\n",
       " 10,\n",
       " 10,\n",
       " 10,\n",
       " 10,\n",
       " 10,\n",
       " 10,\n",
       " 10,\n",
       " 10,\n",
       " 9,\n",
       " 10,\n",
       " 3,\n",
       " 1]"
      ]
     },
     "execution_count": 25,
     "metadata": {},
     "output_type": "execute_result"
    }
   ],
   "source": [
    "[i['n_raters_for_doc'] for i in docs_number_of_raters]"
   ]
  },
  {
   "cell_type": "code",
   "execution_count": 26,
   "metadata": {},
   "outputs": [
    {
     "data": {
      "text/plain": [
       "{'doc': 'Hvordan kan statsministeren kalde børn,der er født på danske hospitaler for indvandrerdrenge!',\n",
       " 'n_raters_for_doc': 10}"
      ]
     },
     "execution_count": 26,
     "metadata": {},
     "output_type": "execute_result"
    }
   ],
   "source": [
    "docs_number_of_raters[0]"
   ]
  },
  {
   "cell_type": "code",
   "execution_count": 27,
   "metadata": {},
   "outputs": [
    {
     "data": {
      "text/plain": [
       "{1, 3, 7, 9, 10}"
      ]
     },
     "execution_count": 27,
     "metadata": {},
     "output_type": "execute_result"
    }
   ],
   "source": [
    "set([i['n_raters_for_doc'] for i in docs_number_of_raters])"
   ]
  },
  {
   "cell_type": "code",
   "execution_count": null,
   "metadata": {},
   "outputs": [],
   "source": []
  }
 ],
 "metadata": {
  "kernelspec": {
   "display_name": "thesis",
   "language": "python",
   "name": "python3"
  },
  "language_info": {
   "codemirror_mode": {
    "name": "ipython",
    "version": 3
   },
   "file_extension": ".py",
   "mimetype": "text/x-python",
   "name": "python",
   "nbconvert_exporter": "python",
   "pygments_lexer": "ipython3",
   "version": "3.10.8"
  },
  "orig_nbformat": 4,
  "vscode": {
   "interpreter": {
    "hash": "0f092f9808d781aed1cffbee1778720285e402013b75f9f1b9e21e42cac7a28f"
   }
  }
 },
 "nbformat": 4,
 "nbformat_minor": 2
}
