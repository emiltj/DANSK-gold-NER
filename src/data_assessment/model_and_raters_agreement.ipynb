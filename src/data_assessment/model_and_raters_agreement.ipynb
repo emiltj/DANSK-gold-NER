{
 "cells": [
  {
   "cell_type": "code",
   "execution_count": 56,
   "metadata": {},
   "outputs": [],
   "source": [
    "import spacy, os\n",
    "from spacy.tokens import DocBin\n",
    "nlp = spacy.blank(\"da\")\n",
    "db = DocBin()\n",
    "raters = [3, 4, 5, 6, 7, 8, 9]"
   ]
  },
  {
   "cell_type": "code",
   "execution_count": 51,
   "metadata": {},
   "outputs": [],
   "source": [
    "os.chdir(\"/Users/emiltrencknerjessen/Desktop/priv/DANSK-gold-NER/\")"
   ]
  },
  {
   "cell_type": "code",
   "execution_count": 52,
   "metadata": {},
   "outputs": [
    {
     "name": "stdout",
     "output_type": "stream",
     "text": [
      "Cases where ents are same between predicted and model: 638\n",
      "Cases where ents are NOT same between preds and model: 888\n"
     ]
    }
   ],
   "source": [
    "# testing for single rater\n",
    "preds = list(db.from_disk(\"data/single/unprocessed/rater_3/rater_3_preds.spacy\").get_docs(nlp.vocab))\n",
    "annotations = list(db.from_disk(\"data/single/unprocessed/rater_3/train.spacy\").get_docs(nlp.vocab))\n",
    "counter = sum(\n",
    "    preds[i].ents == annotations[i].ents for i in range(len(preds))\n",
    ")\n",
    "print(f\"Cases where ents are same between predicted and model: {counter}\")\n",
    "print(f\"Cases where ents are NOT same between preds and model: {len(preds) - counter}\")"
   ]
  },
  {
   "cell_type": "code",
   "execution_count": 55,
   "metadata": {},
   "outputs": [
    {
     "name": "stdout",
     "output_type": "stream",
     "text": [
      "For rater 1:\n",
      "Cases where ents are same between predicted and model: 508\n",
      "Cases where ents are NOT same between preds and model: 904\n",
      "For rater 3:\n",
      "Cases where ents are same between predicted and model: 638\n",
      "Cases where ents are NOT same between preds and model: 888\n"
     ]
    },
    {
     "ename": "IndexError",
     "evalue": "list index out of range",
     "output_type": "error",
     "traceback": [
      "\u001b[0;31m---------------------------------------------------------------------------\u001b[0m",
      "\u001b[0;31mIndexError\u001b[0m                                Traceback (most recent call last)",
      "Cell \u001b[0;32mIn[55], line 4\u001b[0m\n\u001b[1;32m      2\u001b[0m preds \u001b[39m=\u001b[39m \u001b[39mlist\u001b[39m(db\u001b[39m.\u001b[39mfrom_disk(\u001b[39mf\u001b[39m\u001b[39m\"\u001b[39m\u001b[39mdata/single/unprocessed/rater_\u001b[39m\u001b[39m{\u001b[39;00mr\u001b[39m}\u001b[39;00m\u001b[39m/rater_\u001b[39m\u001b[39m{\u001b[39;00mr\u001b[39m}\u001b[39;00m\u001b[39m_preds.spacy\u001b[39m\u001b[39m\"\u001b[39m)\u001b[39m.\u001b[39mget_docs(nlp\u001b[39m.\u001b[39mvocab))\n\u001b[1;32m      3\u001b[0m annotations \u001b[39m=\u001b[39m \u001b[39mlist\u001b[39m(db\u001b[39m.\u001b[39mfrom_disk(\u001b[39mf\u001b[39m\u001b[39m\"\u001b[39m\u001b[39mdata/single/unprocessed/rater_\u001b[39m\u001b[39m{\u001b[39;00mr\u001b[39m}\u001b[39;00m\u001b[39m/train.spacy\u001b[39m\u001b[39m\"\u001b[39m)\u001b[39m.\u001b[39mget_docs(nlp\u001b[39m.\u001b[39mvocab))\n\u001b[0;32m----> 4\u001b[0m counter \u001b[39m=\u001b[39m \u001b[39msum\u001b[39;49m(\n\u001b[1;32m      5\u001b[0m     preds[i]\u001b[39m.\u001b[39;49ments \u001b[39m==\u001b[39;49m annotations[i]\u001b[39m.\u001b[39;49ments \u001b[39mfor\u001b[39;49;00m i \u001b[39min\u001b[39;49;00m \u001b[39mrange\u001b[39;49m(\u001b[39mlen\u001b[39;49m(preds))\n\u001b[1;32m      6\u001b[0m )\n\u001b[1;32m      7\u001b[0m \u001b[39mprint\u001b[39m(\u001b[39mf\u001b[39m\u001b[39m'\u001b[39m\u001b[39mFor rater \u001b[39m\u001b[39m{\u001b[39;00mr\u001b[39m}\u001b[39;00m\u001b[39m:\u001b[39m\u001b[39m'\u001b[39m)\n\u001b[1;32m      8\u001b[0m \u001b[39mprint\u001b[39m(\u001b[39mf\u001b[39m\u001b[39m\"\u001b[39m\u001b[39mCases where ents are same between predicted and model: \u001b[39m\u001b[39m{\u001b[39;00mcounter\u001b[39m}\u001b[39;00m\u001b[39m\"\u001b[39m)\n",
      "Cell \u001b[0;32mIn[55], line 5\u001b[0m, in \u001b[0;36m<genexpr>\u001b[0;34m(.0)\u001b[0m\n\u001b[1;32m      2\u001b[0m preds \u001b[39m=\u001b[39m \u001b[39mlist\u001b[39m(db\u001b[39m.\u001b[39mfrom_disk(\u001b[39mf\u001b[39m\u001b[39m\"\u001b[39m\u001b[39mdata/single/unprocessed/rater_\u001b[39m\u001b[39m{\u001b[39;00mr\u001b[39m}\u001b[39;00m\u001b[39m/rater_\u001b[39m\u001b[39m{\u001b[39;00mr\u001b[39m}\u001b[39;00m\u001b[39m_preds.spacy\u001b[39m\u001b[39m\"\u001b[39m)\u001b[39m.\u001b[39mget_docs(nlp\u001b[39m.\u001b[39mvocab))\n\u001b[1;32m      3\u001b[0m annotations \u001b[39m=\u001b[39m \u001b[39mlist\u001b[39m(db\u001b[39m.\u001b[39mfrom_disk(\u001b[39mf\u001b[39m\u001b[39m\"\u001b[39m\u001b[39mdata/single/unprocessed/rater_\u001b[39m\u001b[39m{\u001b[39;00mr\u001b[39m}\u001b[39;00m\u001b[39m/train.spacy\u001b[39m\u001b[39m\"\u001b[39m)\u001b[39m.\u001b[39mget_docs(nlp\u001b[39m.\u001b[39mvocab))\n\u001b[1;32m      4\u001b[0m counter \u001b[39m=\u001b[39m \u001b[39msum\u001b[39m(\n\u001b[0;32m----> 5\u001b[0m     preds[i]\u001b[39m.\u001b[39ments \u001b[39m==\u001b[39m annotations[i]\u001b[39m.\u001b[39ments \u001b[39mfor\u001b[39;00m i \u001b[39min\u001b[39;00m \u001b[39mrange\u001b[39m(\u001b[39mlen\u001b[39m(preds))\n\u001b[1;32m      6\u001b[0m )\n\u001b[1;32m      7\u001b[0m \u001b[39mprint\u001b[39m(\u001b[39mf\u001b[39m\u001b[39m'\u001b[39m\u001b[39mFor rater \u001b[39m\u001b[39m{\u001b[39;00mr\u001b[39m}\u001b[39;00m\u001b[39m:\u001b[39m\u001b[39m'\u001b[39m)\n\u001b[1;32m      8\u001b[0m \u001b[39mprint\u001b[39m(\u001b[39mf\u001b[39m\u001b[39m\"\u001b[39m\u001b[39mCases where ents are same between predicted and model: \u001b[39m\u001b[39m{\u001b[39;00mcounter\u001b[39m}\u001b[39;00m\u001b[39m\"\u001b[39m)\n",
      "\u001b[0;31mIndexError\u001b[0m: list index out of range"
     ]
    }
   ],
   "source": [
    "for r in raters:\n",
    "    preds = list(db.from_disk(f\"data/single/unprocessed/rater_{r}/rater_{r}_preds.spacy\").get_docs(nlp.vocab))\n",
    "    annotations = list(db.from_disk(f\"data/single/unprocessed/rater_{r}/train.spacy\").get_docs(nlp.vocab))\n",
    "    counter = sum(\n",
    "        preds[i].ents == annotations[i].ents for i in range(len(preds))\n",
    "    )\n",
    "    print(f'For rater {r}:')\n",
    "    print(f\"Cases where ents are same between predicted and model: {counter}\")\n",
    "    print(f\"Cases where ents are NOT same between preds and model: {len(preds) - counter}\")"
   ]
  },
  {
   "cell_type": "code",
   "execution_count": null,
   "metadata": {},
   "outputs": [],
   "source": []
  }
 ],
 "metadata": {
  "kernelspec": {
   "display_name": "thesis",
   "language": "python",
   "name": "python3"
  },
  "language_info": {
   "codemirror_mode": {
    "name": "ipython",
    "version": 3
   },
   "file_extension": ".py",
   "mimetype": "text/x-python",
   "name": "python",
   "nbconvert_exporter": "python",
   "pygments_lexer": "ipython3",
   "version": "3.10.8"
  },
  "orig_nbformat": 4,
  "vscode": {
   "interpreter": {
    "hash": "0f092f9808d781aed1cffbee1778720285e402013b75f9f1b9e21e42cac7a28f"
   }
  }
 },
 "nbformat": 4,
 "nbformat_minor": 2
}
