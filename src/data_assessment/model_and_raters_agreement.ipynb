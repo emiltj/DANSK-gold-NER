{
 "cells": [
  {
   "cell_type": "code",
   "execution_count": 1,
   "metadata": {},
   "outputs": [],
   "source": [
    "import spacy, os\n",
    "from spacy.tokens import DocBin\n",
    "nlp = spacy.blank(\"da\")\n",
    "db = DocBin()\n",
    "raters = [3, 4, 5, 6, 7, 8, 9]"
   ]
  },
  {
   "cell_type": "code",
   "execution_count": 2,
   "metadata": {},
   "outputs": [],
   "source": [
    "os.chdir(\"/Users/emiltrencknerjessen/Desktop/priv/DANSK-gold-NER/\")"
   ]
  },
  {
   "cell_type": "code",
   "execution_count": 4,
   "metadata": {},
   "outputs": [
    {
     "name": "stdout",
     "output_type": "stream",
     "text": [
      "For rater 3:\n",
      "Cases where ents are same between predicted and model: 638\n",
      "Cases where ents are NOT same between preds and model: 888\n",
      "For rater 4:\n",
      "Cases where ents are same between predicted and model: 1114\n",
      "Cases where ents are NOT same between preds and model: 1363\n",
      "For rater 5:\n",
      "Cases where ents are same between predicted and model: 422\n",
      "Cases where ents are NOT same between preds and model: 980\n",
      "For rater 6:\n",
      "Cases where ents are same between predicted and model: 1046\n",
      "Cases where ents are NOT same between preds and model: 1213\n",
      "For rater 7:\n",
      "Cases where ents are same between predicted and model: 754\n",
      "Cases where ents are NOT same between preds and model: 1148\n",
      "For rater 8:\n",
      "Cases where ents are same between predicted and model: 622\n",
      "Cases where ents are NOT same between preds and model: 1076\n",
      "For rater 9:\n",
      "Cases where ents are same between predicted and model: 906\n",
      "Cases where ents are NOT same between preds and model: 1203\n",
      "Total cases where ents are same 5502\n",
      "Total cases where ents are NOT same 7871\n"
     ]
    }
   ],
   "source": [
    "docs_not_same = 0\n",
    "docs_same = 0\n",
    "for r in raters:\n",
    "    preds = list(db.from_disk(f\"data/single/unprocessed/rater_{r}/rater_{r}_preds.spacy\").get_docs(nlp.vocab))\n",
    "    annotations = list(db.from_disk(f\"data/single/unprocessed/rater_{r}/train.spacy\").get_docs(nlp.vocab))\n",
    "    counter = sum(\n",
    "        preds[i].ents == annotations[i].ents for i in range(len(preds))\n",
    "    )\n",
    "    print(f'For rater {r}:')\n",
    "    print(f\"Cases where ents are same between predicted and model: {counter}\")\n",
    "    print(f\"Cases where ents are NOT same between preds and model: {len(preds) - counter}\")\n",
    "    docs_not_same += len(preds) - counter\n",
    "    docs_same += counter\n",
    "print(f\"Total cases where ents are same {docs_same}\")\n",
    "print(f\"Total cases where ents are NOT same {docs_not_same}\")"
   ]
  },
  {
   "cell_type": "code",
   "execution_count": null,
   "metadata": {},
   "outputs": [],
   "source": []
  }
 ],
 "metadata": {
  "kernelspec": {
   "display_name": "thesis",
   "language": "python",
   "name": "python3"
  },
  "language_info": {
   "codemirror_mode": {
    "name": "ipython",
    "version": 3
   },
   "file_extension": ".py",
   "mimetype": "text/x-python",
   "name": "python",
   "nbconvert_exporter": "python",
   "pygments_lexer": "ipython3",
   "version": "3.10.8"
  },
  "orig_nbformat": 4,
  "vscode": {
   "interpreter": {
    "hash": "0f092f9808d781aed1cffbee1778720285e402013b75f9f1b9e21e42cac7a28f"
   }
  }
 },
 "nbformat": 4,
 "nbformat_minor": 2
}
