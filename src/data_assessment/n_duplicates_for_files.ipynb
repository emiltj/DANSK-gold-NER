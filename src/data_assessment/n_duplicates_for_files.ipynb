{
 "cells": [
  {
   "cell_type": "code",
   "execution_count": 74,
   "metadata": {},
   "outputs": [],
   "source": [
    "import pandas as pd\n",
    "import collections\n",
    "from datetime import datetime"
   ]
  },
  {
   "attachments": {},
   "cell_type": "markdown",
   "metadata": {},
   "source": [
    "# Annotator data"
   ]
  },
  {
   "cell_type": "code",
   "execution_count": 78,
   "metadata": {},
   "outputs": [],
   "source": [
    "# Load data\n",
    "df1 = pd.read_json(path_or_buf='../../data/prodigy_exports/prodigy1_db_exports/NER_annotator1.jsonl', lines=True)"
   ]
  },
  {
   "cell_type": "code",
   "execution_count": 80,
   "metadata": {},
   "outputs": [
    {
     "name": "stdout",
     "output_type": "stream",
     "text": [
      "3164\n",
      "2842\n",
      "248\n",
      "['Nå nej', 'Det er selvfølgelig anekdotisk, men jeg har mødt så mange gode mennesker i min barndom som både hed Abdi, Tarik, Muhammad og Eyman.', 'Varme hjerter, svære kår, gode til fodbold.', 'Flere af dem sælger hash osv i dag.', 'Så sørgeligt og jeg nægter tesen om at det skulle være selvforskyldt', 'Deres forældre havde ingen muligheder, allerede dengang blev de set ned på i samfundet, på kommunen og i parlamentet.', 'Svært at gro blomster direkte på beton', '\\n@iNSiG9FiX @cekicozlem', 'Deres forældre, bedsteforældre er det vel snarere nu, de havde alle de muligheder de valgte at forfølge.', 'Det er på tide man lægger offerrollen på hylden.']\n"
     ]
    }
   ],
   "source": [
    "# Find potential duplicates and the number of them\n",
    "# sourcery skip: remove-redundant-slice-index\n",
    "texts1 = list(df1.text)\n",
    "print(len(texts1))\n",
    "print(len(set(texts1)))\n",
    "print(len([item for item, count in collections.Counter(texts1).items() if count > 1]))\n",
    "print([item for item, count in collections.Counter(texts1).items() if count > 1][0:10]) # which texts are duplicates?"
   ]
  },
  {
   "cell_type": "code",
   "execution_count": 81,
   "metadata": {},
   "outputs": [
    {
     "data": {
      "text/html": [
       "<div>\n",
       "<style scoped>\n",
       "    .dataframe tbody tr th:only-of-type {\n",
       "        vertical-align: middle;\n",
       "    }\n",
       "\n",
       "    .dataframe tbody tr th {\n",
       "        vertical-align: top;\n",
       "    }\n",
       "\n",
       "    .dataframe thead th {\n",
       "        text-align: right;\n",
       "    }\n",
       "</style>\n",
       "<table border=\"1\" class=\"dataframe\">\n",
       "  <thead>\n",
       "    <tr style=\"text-align: right;\">\n",
       "      <th></th>\n",
       "      <th>text</th>\n",
       "      <th>meta</th>\n",
       "      <th>_input_hash</th>\n",
       "      <th>_task_hash</th>\n",
       "      <th>tokens</th>\n",
       "      <th>spans</th>\n",
       "      <th>_is_binary</th>\n",
       "      <th>_view_id</th>\n",
       "      <th>answer</th>\n",
       "      <th>_timestamp</th>\n",
       "    </tr>\n",
       "  </thead>\n",
       "  <tbody>\n",
       "    <tr>\n",
       "      <th>12</th>\n",
       "      <td>Det er selvfølgelig anekdotisk, men jeg har mø...</td>\n",
       "      <td>{'start_id': '1296181799450804226', 'start_use...</td>\n",
       "      <td>-982472569</td>\n",
       "      <td>1877380412</td>\n",
       "      <td>[{'text': 'Det', 'start': 0, 'end': 3, 'id': 0...</td>\n",
       "      <td>[{'start': 100, 'end': 104, 'token_start': 19,...</td>\n",
       "      <td>False</td>\n",
       "      <td>ner_manual</td>\n",
       "      <td>accept</td>\n",
       "      <td>1635322276</td>\n",
       "    </tr>\n",
       "    <tr>\n",
       "      <th>36</th>\n",
       "      <td>Det er selvfølgelig anekdotisk, men jeg har mø...</td>\n",
       "      <td>{'start_id': '1296181799450804226', 'start_use...</td>\n",
       "      <td>-982472569</td>\n",
       "      <td>1877380412</td>\n",
       "      <td>[{'text': 'Det', 'start': 0, 'end': 3, 'id': 0...</td>\n",
       "      <td>[{'start': 73, 'end': 86, 'token_start': 13, '...</td>\n",
       "      <td>False</td>\n",
       "      <td>ner_manual</td>\n",
       "      <td>accept</td>\n",
       "      <td>1635322656</td>\n",
       "    </tr>\n",
       "  </tbody>\n",
       "</table>\n",
       "</div>"
      ],
      "text/plain": [
       "                                                 text  \\\n",
       "12  Det er selvfølgelig anekdotisk, men jeg har mø...   \n",
       "36  Det er selvfølgelig anekdotisk, men jeg har mø...   \n",
       "\n",
       "                                                 meta  _input_hash  \\\n",
       "12  {'start_id': '1296181799450804226', 'start_use...   -982472569   \n",
       "36  {'start_id': '1296181799450804226', 'start_use...   -982472569   \n",
       "\n",
       "    _task_hash                                             tokens  \\\n",
       "12  1877380412  [{'text': 'Det', 'start': 0, 'end': 3, 'id': 0...   \n",
       "36  1877380412  [{'text': 'Det', 'start': 0, 'end': 3, 'id': 0...   \n",
       "\n",
       "                                                spans  _is_binary    _view_id  \\\n",
       "12  [{'start': 100, 'end': 104, 'token_start': 19,...       False  ner_manual   \n",
       "36  [{'start': 73, 'end': 86, 'token_start': 13, '...       False  ner_manual   \n",
       "\n",
       "    answer  _timestamp  \n",
       "12  accept  1635322276  \n",
       "36  accept  1635322656  "
      ]
     },
     "execution_count": 81,
     "metadata": {},
     "output_type": "execute_result"
    }
   ],
   "source": [
    "# See example in depth\n",
    "df1[df1['text'] == 'Det er selvfølgelig anekdotisk, men jeg har mødt så mange gode mennesker i min barndom som både hed Abdi, Tarik, Muhammad og Eyman.']\n",
    "# It appears IT IS the same meta data"
   ]
  },
  {
   "attachments": {},
   "cell_type": "markdown",
   "metadata": {},
   "source": [
    "# Interannotator data"
   ]
  },
  {
   "cell_type": "code",
   "execution_count": 85,
   "metadata": {},
   "outputs": [],
   "source": [
    "# Load data\n",
    "df2 = pd.read_json(path_or_buf='../../data/prodigy_exports/prodigy1_db_exports/NER_interannotator_annotator1.jsonl', lines=True)"
   ]
  },
  {
   "cell_type": "code",
   "execution_count": 86,
   "metadata": {},
   "outputs": [
    {
     "name": "stdout",
     "output_type": "stream",
     "text": [
      "468\n",
      "437\n",
      "8\n",
      "['!', '\\n', '.', '?', 'Taler 11:', 'Taler 10:', 'Eller manuskriptet.', 'Dig elsker jeg!']\n"
     ]
    }
   ],
   "source": [
    "# Find potential duplicates and the number of them\n",
    "# sourcery skip: remove-redundant-slice-index\n",
    "texts2 = list(df2.text)\n",
    "print(len(texts2))\n",
    "print(len(set(texts2)))\n",
    "print(len([item for item, count in collections.Counter(texts2).items() if count > 1]))\n",
    "print([item for item, count in collections.Counter(texts2).items() if count > 1][0:10]) # which texts are duplicates?"
   ]
  },
  {
   "cell_type": "code",
   "execution_count": 87,
   "metadata": {},
   "outputs": [
    {
     "data": {
      "text/html": [
       "<div>\n",
       "<style scoped>\n",
       "    .dataframe tbody tr th:only-of-type {\n",
       "        vertical-align: middle;\n",
       "    }\n",
       "\n",
       "    .dataframe tbody tr th {\n",
       "        vertical-align: top;\n",
       "    }\n",
       "\n",
       "    .dataframe thead th {\n",
       "        text-align: right;\n",
       "    }\n",
       "</style>\n",
       "<table border=\"1\" class=\"dataframe\">\n",
       "  <thead>\n",
       "    <tr style=\"text-align: right;\">\n",
       "      <th></th>\n",
       "      <th>text</th>\n",
       "      <th>meta</th>\n",
       "      <th>_input_hash</th>\n",
       "      <th>_task_hash</th>\n",
       "      <th>tokens</th>\n",
       "      <th>spans</th>\n",
       "      <th>_is_binary</th>\n",
       "      <th>_view_id</th>\n",
       "      <th>answer</th>\n",
       "      <th>_timestamp</th>\n",
       "    </tr>\n",
       "  </thead>\n",
       "  <tbody>\n",
       "    <tr>\n",
       "      <th>3</th>\n",
       "      <td>!</td>\n",
       "      <td>{'start_id': '1238865417248165895', 'start_use...</td>\n",
       "      <td>1106246185</td>\n",
       "      <td>-1563749998</td>\n",
       "      <td>[{'text': '!', 'start': 0, 'end': 1, 'id': 0, ...</td>\n",
       "      <td>[]</td>\n",
       "      <td>False</td>\n",
       "      <td>ner_manual</td>\n",
       "      <td>reject</td>\n",
       "      <td>1636479337</td>\n",
       "    </tr>\n",
       "    <tr>\n",
       "      <th>292</th>\n",
       "      <td>!</td>\n",
       "      <td>{'source': '/content/dagw/sektioner/ep/ep_07-1...</td>\n",
       "      <td>1106246185</td>\n",
       "      <td>-1563749998</td>\n",
       "      <td>[{'text': '!', 'start': 0, 'end': 1, 'id': 0, ...</td>\n",
       "      <td>[]</td>\n",
       "      <td>False</td>\n",
       "      <td>ner_manual</td>\n",
       "      <td>accept</td>\n",
       "      <td>1636481274</td>\n",
       "    </tr>\n",
       "  </tbody>\n",
       "</table>\n",
       "</div>"
      ],
      "text/plain": [
       "    text                                               meta  _input_hash  \\\n",
       "3      !  {'start_id': '1238865417248165895', 'start_use...   1106246185   \n",
       "292    !  {'source': '/content/dagw/sektioner/ep/ep_07-1...   1106246185   \n",
       "\n",
       "     _task_hash                                             tokens spans  \\\n",
       "3   -1563749998  [{'text': '!', 'start': 0, 'end': 1, 'id': 0, ...    []   \n",
       "292 -1563749998  [{'text': '!', 'start': 0, 'end': 1, 'id': 0, ...    []   \n",
       "\n",
       "     _is_binary    _view_id  answer  _timestamp  \n",
       "3         False  ner_manual  reject  1636479337  \n",
       "292       False  ner_manual  accept  1636481274  "
      ]
     },
     "execution_count": 87,
     "metadata": {},
     "output_type": "execute_result"
    }
   ],
   "source": [
    "# See example in depth\n",
    "df2[df2['text'] == '!']\n",
    "# It appears that it is NOT the same meta data"
   ]
  },
  {
   "attachments": {},
   "cell_type": "markdown",
   "metadata": {},
   "source": [
    "# Check duplicates between annotator and interannotatordata"
   ]
  },
  {
   "cell_type": "code",
   "execution_count": 90,
   "metadata": {},
   "outputs": [],
   "source": [
    "unique_docs_annotator = list(set(list(df1['text'])))\n",
    "unique_docs_interannotator = list(set(list(df2['text'])))"
   ]
  },
  {
   "cell_type": "code",
   "execution_count": 91,
   "metadata": {},
   "outputs": [
    {
     "name": "stdout",
     "output_type": "stream",
     "text": [
      "n_docs in interannotator data: 437\n",
      "n_docs in annotator data: 2842\n",
      "n_docs in combined (with potential duplicates): 3279\n",
      "n_docs in combined (without duplicates): 3264\n",
      "n_duplicates in combined: 15\n"
     ]
    }
   ],
   "source": [
    "with_potential_duplicates = (unique_docs_interannotator + unique_docs_annotator)\n",
    "without_potential_duplicates = set(unique_docs_interannotator + unique_docs_annotator)\n",
    "n_duplicates = len(with_potential_duplicates) - len(without_potential_duplicates)\n",
    "\n",
    "print(f'n_docs in interannotator data: {len(unique_docs_interannotator)}')\n",
    "print(f'n_docs in annotator data: {len(unique_docs_annotator)}')\n",
    "print(f'n_docs in combined (with potential duplicates): {len(with_potential_duplicates)}')\n",
    "print(f'n_docs in combined (without duplicates): {len(without_potential_duplicates)}')\n",
    "print(f'n_duplicates in combined: {n_duplicates}')"
   ]
  }
 ],
 "metadata": {
  "kernelspec": {
   "display_name": "thesis",
   "language": "python",
   "name": "python3"
  },
  "language_info": {
   "codemirror_mode": {
    "name": "ipython",
    "version": 3
   },
   "file_extension": ".py",
   "mimetype": "text/x-python",
   "name": "python",
   "nbconvert_exporter": "python",
   "pygments_lexer": "ipython3",
   "version": "3.10.8 (main, Nov 24 2022, 08:08:27) [Clang 14.0.6 ]"
  },
  "orig_nbformat": 4,
  "vscode": {
   "interpreter": {
    "hash": "0f092f9808d781aed1cffbee1778720285e402013b75f9f1b9e21e42cac7a28f"
   }
  }
 },
 "nbformat": 4,
 "nbformat_minor": 2
}
